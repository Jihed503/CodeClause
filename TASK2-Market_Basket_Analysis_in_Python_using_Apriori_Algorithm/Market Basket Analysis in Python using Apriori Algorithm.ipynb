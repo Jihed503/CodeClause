{
 "cells": [
  {
   "cell_type": "markdown",
   "id": "3d86f644",
   "metadata": {},
   "source": [
    "Whenever you visit a retail supermarket, you will find that baby diapers and wipes, bread and butter, pizza base and cheese, beer, and chips are positioned together in the tore for sales. This is what market basket analysis is all about - analyzing the association among products bought together by customers. Market basket analysis is a versatile use case in the retail industry that helps cross-sell products in a physical outlet and also helps e-commerce businesses recommend products t ocustomers based on product associations. Apriori and FP growth are the most popular machine learning alogorithm used for association learning to perform market basket analysis."
   ]
  },
  {
   "cell_type": "code",
   "execution_count": null,
   "id": "710d6ef5",
   "metadata": {},
   "outputs": [],
   "source": []
  }
 ],
 "metadata": {
  "kernelspec": {
   "display_name": "Python 3 (ipykernel)",
   "language": "python",
   "name": "python3"
  },
  "language_info": {
   "codemirror_mode": {
    "name": "ipython",
    "version": 3
   },
   "file_extension": ".py",
   "mimetype": "text/x-python",
   "name": "python",
   "nbconvert_exporter": "python",
   "pygments_lexer": "ipython3",
   "version": "3.9.4"
  }
 },
 "nbformat": 4,
 "nbformat_minor": 5
}
