{
 "cells": [
  {
   "cell_type": "code",
   "execution_count": 1,
   "id": "139116e6",
   "metadata": {},
   "outputs": [
    {
     "name": "stdout",
     "output_type": "stream",
     "text": [
      "          Transaction\n",
      "0    History,Bookmark\n",
      "1    History,Bookmark\n",
      "2    Fiction,Bookmark\n",
      "3  Biography,Bookmark\n",
      "4    History,Bookmark\n"
     ]
    }
   ],
   "source": [
    "import pandas as pd\n",
    "books = pd.read_csv('bookstore.csv')\n",
    "\n",
    "print(books.head())"
   ]
  },
  {
   "cell_type": "code",
   "execution_count": 2,
   "id": "b54ea5b6",
   "metadata": {},
   "outputs": [],
   "source": [
    "transactions = books['Transaction'].apply(lambda t: t.split(','))"
   ]
  },
  {
   "cell_type": "code",
   "execution_count": 3,
   "id": "01b645bb",
   "metadata": {},
   "outputs": [],
   "source": [
    "transactions = list(transactions)"
   ]
  },
  {
   "cell_type": "code",
   "execution_count": 4,
   "id": "f563dbd1",
   "metadata": {},
   "outputs": [
    {
     "data": {
      "text/plain": [
       "[['History', 'Bookmark'],\n",
       " ['History', 'Bookmark'],\n",
       " ['Fiction', 'Bookmark'],\n",
       " ['Biography', 'Bookmark'],\n",
       " ['History', 'Bookmark'],\n",
       " ['Poetry', 'Bookmark'],\n",
       " ['Biography', 'Bookmark'],\n",
       " ['Poetry', 'Bookmark'],\n",
       " ['Biography', 'Bookmark'],\n",
       " ['Biography', 'Bookmark'],\n",
       " ['History', 'Bookmark'],\n",
       " ['Fiction', 'Bookmark'],\n",
       " ['History', 'Bookmark'],\n",
       " ['Biography', 'Bookmark'],\n",
       " ['Poetry', 'Bookmark'],\n",
       " ['Biography', 'Bookmark'],\n",
       " ['Fiction', 'Bookmark'],\n",
       " ['Biography', 'Bookmark'],\n",
       " ['Poetry', 'Bookmark'],\n",
       " ['History', 'Bookmark'],\n",
       " ['History', 'Bookmark'],\n",
       " ['Poetry', 'Bookmark'],\n",
       " ['Fiction', 'Bookmark'],\n",
       " ['History', 'Bookmark'],\n",
       " ['Biography', 'Bookmark'],\n",
       " ['Biography', 'Bookmark'],\n",
       " ['Fiction', 'Bookmark'],\n",
       " ['Biography', 'Bookmark'],\n",
       " ['History', 'Bookmark'],\n",
       " ['Fiction', 'Bookmark'],\n",
       " ['History', 'Bookmark'],\n",
       " ['History', 'Bookmark'],\n",
       " ['Biography', 'Bookmark'],\n",
       " ['Biography', 'Bookmark'],\n",
       " ['History', 'Bookmark'],\n",
       " ['History', 'Bookmark'],\n",
       " ['Biography', 'Bookmark'],\n",
       " ['Biography', 'Bookmark'],\n",
       " ['Fiction', 'Bookmark'],\n",
       " ['Fiction', 'Bookmark'],\n",
       " ['Biography', 'Bookmark'],\n",
       " ['Biography', 'Bookmark'],\n",
       " ['Biography', 'Bookmark'],\n",
       " ['Fiction', 'Bookmark'],\n",
       " ['History', 'Bookmark'],\n",
       " ['Biography', 'Bookmark'],\n",
       " ['History', 'Bookmark'],\n",
       " ['Biography', 'Bookmark'],\n",
       " ['Fiction', 'Bookmark'],\n",
       " ['History', 'Bookmark'],\n",
       " ['Fiction', 'Bookmark'],\n",
       " ['Fiction', 'Bookmark'],\n",
       " ['Biography', 'Bookmark'],\n",
       " ['Biography', 'Bookmark'],\n",
       " ['Fiction', 'Bookmark'],\n",
       " ['Poetry', 'Bookmark'],\n",
       " ['Biography', 'Bookmark'],\n",
       " ['Fiction', 'Bookmark'],\n",
       " ['Biography', 'Bookmark'],\n",
       " ['Biography', 'Bookmark'],\n",
       " ['Poetry', 'Bookmark'],\n",
       " ['History', 'Bookmark'],\n",
       " ['Fiction', 'Bookmark'],\n",
       " ['History', 'Bookmark'],\n",
       " ['Biography', 'Bookmark'],\n",
       " ['Fiction', 'Bookmark'],\n",
       " ['Biography', 'Bookmark'],\n",
       " ['Fiction', 'Bookmark'],\n",
       " ['Fiction', 'Bookmark'],\n",
       " ['History', 'Bookmark'],\n",
       " ['History', 'Bookmark'],\n",
       " ['Biography', 'Bookmark'],\n",
       " ['Biography', 'Bookmark'],\n",
       " ['Biography', 'Bookmark'],\n",
       " ['History', 'Bookmark'],\n",
       " ['Fiction', 'Bookmark'],\n",
       " ['Poetry', 'Bookmark'],\n",
       " ['Fiction', 'Bookmark'],\n",
       " ['Biography', 'Bookmark'],\n",
       " ['History', 'Bookmark'],\n",
       " ['Biography', 'Bookmark'],\n",
       " ['Biography', 'Bookmark'],\n",
       " ['Fiction', 'Bookmark'],\n",
       " ['Fiction', 'Bookmark'],\n",
       " ['Biography', 'Bookmark'],\n",
       " ['History', 'Bookmark'],\n",
       " ['Biography', 'Bookmark'],\n",
       " ['Fiction', 'Bookmark'],\n",
       " ['Biography', 'Bookmark'],\n",
       " ['Fiction', 'Bookmark'],\n",
       " ['Fiction', 'Bookmark'],\n",
       " ['Biography', 'Bookmark'],\n",
       " ['Biography', 'Bookmark'],\n",
       " ['History', 'Bookmark'],\n",
       " ['Biography', 'Bookmark'],\n",
       " ['Poetry', 'Bookmark'],\n",
       " ['History', 'Bookmark'],\n",
       " ['Biography', 'Bookmark'],\n",
       " ['Biography', 'Bookmark']]"
      ]
     },
     "execution_count": 4,
     "metadata": {},
     "output_type": "execute_result"
    }
   ],
   "source": [
    "transactions"
   ]
  },
  {
   "cell_type": "code",
   "execution_count": 5,
   "id": "6240f2dc",
   "metadata": {},
   "outputs": [],
   "source": [
    "from itertools import permutations\n",
    "\n",
    "flattened = [item for transaction in transactions for item in transaction]\n",
    "items = list(set(flattened))"
   ]
  },
  {
   "cell_type": "code",
   "execution_count": 6,
   "id": "f433e54b",
   "metadata": {},
   "outputs": [
    {
     "data": {
      "text/plain": [
       "['History', 'Biography', 'Fiction', 'Bookmark', 'Poetry']"
      ]
     },
     "execution_count": 6,
     "metadata": {},
     "output_type": "execute_result"
    }
   ],
   "source": [
    "items"
   ]
  },
  {
   "cell_type": "code",
   "execution_count": 7,
   "id": "d411c3c6",
   "metadata": {},
   "outputs": [],
   "source": [
    "rules = list(permutations(items, 2))"
   ]
  },
  {
   "cell_type": "code",
   "execution_count": 8,
   "id": "05b036d8",
   "metadata": {},
   "outputs": [
    {
     "data": {
      "text/plain": [
       "[('History', 'Biography'),\n",
       " ('History', 'Fiction'),\n",
       " ('History', 'Bookmark'),\n",
       " ('History', 'Poetry'),\n",
       " ('Biography', 'History'),\n",
       " ('Biography', 'Fiction'),\n",
       " ('Biography', 'Bookmark'),\n",
       " ('Biography', 'Poetry'),\n",
       " ('Fiction', 'History'),\n",
       " ('Fiction', 'Biography'),\n",
       " ('Fiction', 'Bookmark'),\n",
       " ('Fiction', 'Poetry'),\n",
       " ('Bookmark', 'History'),\n",
       " ('Bookmark', 'Biography'),\n",
       " ('Bookmark', 'Fiction'),\n",
       " ('Bookmark', 'Poetry'),\n",
       " ('Poetry', 'History'),\n",
       " ('Poetry', 'Biography'),\n",
       " ('Poetry', 'Fiction'),\n",
       " ('Poetry', 'Bookmark')]"
      ]
     },
     "execution_count": 8,
     "metadata": {},
     "output_type": "execute_result"
    }
   ],
   "source": [
    "rules"
   ]
  },
  {
   "cell_type": "code",
   "execution_count": 9,
   "id": "d947ca17",
   "metadata": {},
   "outputs": [],
   "source": [
    "from mlxtend.preprocessing import TransactionEncoder"
   ]
  },
  {
   "cell_type": "code",
   "execution_count": 10,
   "id": "435e3e0f",
   "metadata": {},
   "outputs": [],
   "source": [
    "encoder = TransactionEncoder().fit(transactions)"
   ]
  },
  {
   "cell_type": "code",
   "execution_count": 11,
   "id": "5e8a5945",
   "metadata": {},
   "outputs": [],
   "source": [
    "onehot = encoder.transform(transactions)"
   ]
  },
  {
   "cell_type": "code",
   "execution_count": 12,
   "id": "c0663e48",
   "metadata": {},
   "outputs": [],
   "source": [
    "onehot = pd.DataFrame(onehot, columns=encoder.columns_)"
   ]
  },
  {
   "cell_type": "code",
   "execution_count": 13,
   "id": "26dd234e",
   "metadata": {},
   "outputs": [
    {
     "data": {
      "text/html": [
       "<div>\n",
       "<style scoped>\n",
       "    .dataframe tbody tr th:only-of-type {\n",
       "        vertical-align: middle;\n",
       "    }\n",
       "\n",
       "    .dataframe tbody tr th {\n",
       "        vertical-align: top;\n",
       "    }\n",
       "\n",
       "    .dataframe thead th {\n",
       "        text-align: right;\n",
       "    }\n",
       "</style>\n",
       "<table border=\"1\" class=\"dataframe\">\n",
       "  <thead>\n",
       "    <tr style=\"text-align: right;\">\n",
       "      <th></th>\n",
       "      <th>Biography</th>\n",
       "      <th>Bookmark</th>\n",
       "      <th>Fiction</th>\n",
       "      <th>History</th>\n",
       "      <th>Poetry</th>\n",
       "    </tr>\n",
       "  </thead>\n",
       "  <tbody>\n",
       "    <tr>\n",
       "      <th>0</th>\n",
       "      <td>False</td>\n",
       "      <td>True</td>\n",
       "      <td>False</td>\n",
       "      <td>True</td>\n",
       "      <td>False</td>\n",
       "    </tr>\n",
       "    <tr>\n",
       "      <th>1</th>\n",
       "      <td>False</td>\n",
       "      <td>True</td>\n",
       "      <td>False</td>\n",
       "      <td>True</td>\n",
       "      <td>False</td>\n",
       "    </tr>\n",
       "    <tr>\n",
       "      <th>2</th>\n",
       "      <td>False</td>\n",
       "      <td>True</td>\n",
       "      <td>True</td>\n",
       "      <td>False</td>\n",
       "      <td>False</td>\n",
       "    </tr>\n",
       "    <tr>\n",
       "      <th>3</th>\n",
       "      <td>True</td>\n",
       "      <td>True</td>\n",
       "      <td>False</td>\n",
       "      <td>False</td>\n",
       "      <td>False</td>\n",
       "    </tr>\n",
       "    <tr>\n",
       "      <th>4</th>\n",
       "      <td>False</td>\n",
       "      <td>True</td>\n",
       "      <td>False</td>\n",
       "      <td>True</td>\n",
       "      <td>False</td>\n",
       "    </tr>\n",
       "    <tr>\n",
       "      <th>...</th>\n",
       "      <td>...</td>\n",
       "      <td>...</td>\n",
       "      <td>...</td>\n",
       "      <td>...</td>\n",
       "      <td>...</td>\n",
       "    </tr>\n",
       "    <tr>\n",
       "      <th>94</th>\n",
       "      <td>True</td>\n",
       "      <td>True</td>\n",
       "      <td>False</td>\n",
       "      <td>False</td>\n",
       "      <td>False</td>\n",
       "    </tr>\n",
       "    <tr>\n",
       "      <th>95</th>\n",
       "      <td>False</td>\n",
       "      <td>True</td>\n",
       "      <td>False</td>\n",
       "      <td>False</td>\n",
       "      <td>True</td>\n",
       "    </tr>\n",
       "    <tr>\n",
       "      <th>96</th>\n",
       "      <td>False</td>\n",
       "      <td>True</td>\n",
       "      <td>False</td>\n",
       "      <td>True</td>\n",
       "      <td>False</td>\n",
       "    </tr>\n",
       "    <tr>\n",
       "      <th>97</th>\n",
       "      <td>True</td>\n",
       "      <td>True</td>\n",
       "      <td>False</td>\n",
       "      <td>False</td>\n",
       "      <td>False</td>\n",
       "    </tr>\n",
       "    <tr>\n",
       "      <th>98</th>\n",
       "      <td>True</td>\n",
       "      <td>True</td>\n",
       "      <td>False</td>\n",
       "      <td>False</td>\n",
       "      <td>False</td>\n",
       "    </tr>\n",
       "  </tbody>\n",
       "</table>\n",
       "<p>99 rows × 5 columns</p>\n",
       "</div>"
      ],
      "text/plain": [
       "    Biography  Bookmark  Fiction  History  Poetry\n",
       "0       False      True    False     True   False\n",
       "1       False      True    False     True   False\n",
       "2       False      True     True    False   False\n",
       "3        True      True    False    False   False\n",
       "4       False      True    False     True   False\n",
       "..        ...       ...      ...      ...     ...\n",
       "94       True      True    False    False   False\n",
       "95      False      True    False    False    True\n",
       "96      False      True    False     True   False\n",
       "97       True      True    False    False   False\n",
       "98       True      True    False    False   False\n",
       "\n",
       "[99 rows x 5 columns]"
      ]
     },
     "execution_count": 13,
     "metadata": {},
     "output_type": "execute_result"
    }
   ],
   "source": [
    "onehot"
   ]
  },
  {
   "cell_type": "code",
   "execution_count": 14,
   "id": "3525596b",
   "metadata": {},
   "outputs": [
    {
     "name": "stdout",
     "output_type": "stream",
     "text": [
      "Biography    0.404040\n",
      "Bookmark     1.000000\n",
      "Fiction      0.252525\n",
      "History      0.252525\n",
      "Poetry       0.090909\n",
      "dtype: float64\n"
     ]
    }
   ],
   "source": [
    "# Support values\n",
    "print(onehot.mean())"
   ]
  },
  {
   "cell_type": "code",
   "execution_count": 15,
   "id": "415d8cb3",
   "metadata": {},
   "outputs": [
    {
     "name": "stdout",
     "output_type": "stream",
     "text": [
      "Biography           0.404040\n",
      "Bookmark            1.000000\n",
      "Fiction             0.252525\n",
      "History             0.252525\n",
      "Poetry              0.090909\n",
      "fiction+Bookmark    0.252525\n",
      "dtype: float64\n"
     ]
    }
   ],
   "source": [
    "import numpy as np\n",
    "\n",
    "onehot['fiction+Bookmark'] = np.logical_and(onehot['Fiction'], onehot['Bookmark'])\n",
    "\n",
    "print(onehot.mean())"
   ]
  },
  {
   "cell_type": "code",
   "execution_count": 19,
   "id": "f0213f1c",
   "metadata": {},
   "outputs": [],
   "source": [
    "onehot.drop(['fiction+Bookmark'], axis=1, inplace=True)"
   ]
  },
  {
   "cell_type": "code",
   "execution_count": 20,
   "id": "41aaeb2a",
   "metadata": {},
   "outputs": [
    {
     "data": {
      "text/html": [
       "<div>\n",
       "<style scoped>\n",
       "    .dataframe tbody tr th:only-of-type {\n",
       "        vertical-align: middle;\n",
       "    }\n",
       "\n",
       "    .dataframe tbody tr th {\n",
       "        vertical-align: top;\n",
       "    }\n",
       "\n",
       "    .dataframe thead th {\n",
       "        text-align: right;\n",
       "    }\n",
       "</style>\n",
       "<table border=\"1\" class=\"dataframe\">\n",
       "  <thead>\n",
       "    <tr style=\"text-align: right;\">\n",
       "      <th></th>\n",
       "      <th>Biography</th>\n",
       "      <th>Bookmark</th>\n",
       "      <th>Fiction</th>\n",
       "      <th>History</th>\n",
       "      <th>Poetry</th>\n",
       "    </tr>\n",
       "  </thead>\n",
       "  <tbody>\n",
       "    <tr>\n",
       "      <th>0</th>\n",
       "      <td>False</td>\n",
       "      <td>True</td>\n",
       "      <td>False</td>\n",
       "      <td>True</td>\n",
       "      <td>False</td>\n",
       "    </tr>\n",
       "    <tr>\n",
       "      <th>1</th>\n",
       "      <td>False</td>\n",
       "      <td>True</td>\n",
       "      <td>False</td>\n",
       "      <td>True</td>\n",
       "      <td>False</td>\n",
       "    </tr>\n",
       "    <tr>\n",
       "      <th>2</th>\n",
       "      <td>False</td>\n",
       "      <td>True</td>\n",
       "      <td>True</td>\n",
       "      <td>False</td>\n",
       "      <td>False</td>\n",
       "    </tr>\n",
       "    <tr>\n",
       "      <th>3</th>\n",
       "      <td>True</td>\n",
       "      <td>True</td>\n",
       "      <td>False</td>\n",
       "      <td>False</td>\n",
       "      <td>False</td>\n",
       "    </tr>\n",
       "    <tr>\n",
       "      <th>4</th>\n",
       "      <td>False</td>\n",
       "      <td>True</td>\n",
       "      <td>False</td>\n",
       "      <td>True</td>\n",
       "      <td>False</td>\n",
       "    </tr>\n",
       "    <tr>\n",
       "      <th>...</th>\n",
       "      <td>...</td>\n",
       "      <td>...</td>\n",
       "      <td>...</td>\n",
       "      <td>...</td>\n",
       "      <td>...</td>\n",
       "    </tr>\n",
       "    <tr>\n",
       "      <th>94</th>\n",
       "      <td>True</td>\n",
       "      <td>True</td>\n",
       "      <td>False</td>\n",
       "      <td>False</td>\n",
       "      <td>False</td>\n",
       "    </tr>\n",
       "    <tr>\n",
       "      <th>95</th>\n",
       "      <td>False</td>\n",
       "      <td>True</td>\n",
       "      <td>False</td>\n",
       "      <td>False</td>\n",
       "      <td>True</td>\n",
       "    </tr>\n",
       "    <tr>\n",
       "      <th>96</th>\n",
       "      <td>False</td>\n",
       "      <td>True</td>\n",
       "      <td>False</td>\n",
       "      <td>True</td>\n",
       "      <td>False</td>\n",
       "    </tr>\n",
       "    <tr>\n",
       "      <th>97</th>\n",
       "      <td>True</td>\n",
       "      <td>True</td>\n",
       "      <td>False</td>\n",
       "      <td>False</td>\n",
       "      <td>False</td>\n",
       "    </tr>\n",
       "    <tr>\n",
       "      <th>98</th>\n",
       "      <td>True</td>\n",
       "      <td>True</td>\n",
       "      <td>False</td>\n",
       "      <td>False</td>\n",
       "      <td>False</td>\n",
       "    </tr>\n",
       "  </tbody>\n",
       "</table>\n",
       "<p>99 rows × 5 columns</p>\n",
       "</div>"
      ],
      "text/plain": [
       "    Biography  Bookmark  Fiction  History  Poetry\n",
       "0       False      True    False     True   False\n",
       "1       False      True    False     True   False\n",
       "2       False      True     True    False   False\n",
       "3        True      True    False    False   False\n",
       "4       False      True    False     True   False\n",
       "..        ...       ...      ...      ...     ...\n",
       "94       True      True    False    False   False\n",
       "95      False      True    False    False    True\n",
       "96      False      True    False     True   False\n",
       "97       True      True    False    False   False\n",
       "98       True      True    False    False   False\n",
       "\n",
       "[99 rows x 5 columns]"
      ]
     },
     "execution_count": 20,
     "metadata": {},
     "output_type": "execute_result"
    }
   ],
   "source": [
    "onehot"
   ]
  },
  {
   "cell_type": "code",
   "execution_count": 30,
   "id": "32e64961",
   "metadata": {},
   "outputs": [
    {
     "name": "stdout",
     "output_type": "stream",
     "text": [
      "    support               itemsets\n",
      "0  0.404040            (Biography)\n",
      "1  1.000000             (Bookmark)\n",
      "2  0.252525              (Fiction)\n",
      "3  0.252525              (History)\n",
      "4  0.090909               (Poetry)\n",
      "5  0.404040  (Bookmark, Biography)\n",
      "6  0.252525    (Bookmark, Fiction)\n",
      "7  0.252525    (History, Bookmark)\n",
      "8  0.090909     (Bookmark, Poetry)\n"
     ]
    }
   ],
   "source": [
    "from mlxtend.frequent_patterns import apriori, association_rules\n",
    "\n",
    "frequent_itemsets = apriori(onehot, min_support = 0.006, max_len = 3, use_colnames = True)\n",
    "\n",
    "print(frequent_itemsets)"
   ]
  },
  {
   "cell_type": "code",
   "execution_count": 33,
   "id": "f8582a8f",
   "metadata": {},
   "outputs": [],
   "source": [
    "rules = association_rules(frequent_itemsets, metric='support', min_threshold=0.0)"
   ]
  },
  {
   "cell_type": "code",
   "execution_count": 34,
   "id": "7a1c52c6",
   "metadata": {},
   "outputs": [
    {
     "name": "stdout",
     "output_type": "stream",
     "text": [
      "   antecedents  consequents  antecedent support  consequent support   support  \\\n",
      "0   (Bookmark)  (Biography)            1.000000            0.404040  0.404040   \n",
      "1  (Biography)   (Bookmark)            0.404040            1.000000  0.404040   \n",
      "2   (Bookmark)    (Fiction)            1.000000            0.252525  0.252525   \n",
      "3    (Fiction)   (Bookmark)            0.252525            1.000000  0.252525   \n",
      "4    (History)   (Bookmark)            0.252525            1.000000  0.252525   \n",
      "5   (Bookmark)    (History)            1.000000            0.252525  0.252525   \n",
      "6   (Bookmark)     (Poetry)            1.000000            0.090909  0.090909   \n",
      "7     (Poetry)   (Bookmark)            0.090909            1.000000  0.090909   \n",
      "\n",
      "   confidence  lift  leverage  conviction  \n",
      "0    0.404040   1.0       0.0         1.0  \n",
      "1    1.000000   1.0       0.0         inf  \n",
      "2    0.252525   1.0       0.0         1.0  \n",
      "3    1.000000   1.0       0.0         inf  \n",
      "4    1.000000   1.0       0.0         inf  \n",
      "5    0.252525   1.0       0.0         1.0  \n",
      "6    0.090909   1.0       0.0         1.0  \n",
      "7    1.000000   1.0       0.0         inf  \n"
     ]
    }
   ],
   "source": [
    "print(rules)"
   ]
  },
  {
   "cell_type": "code",
   "execution_count": null,
   "id": "7363c6fe",
   "metadata": {},
   "outputs": [],
   "source": []
  }
 ],
 "metadata": {
  "kernelspec": {
   "display_name": "Python 3 (ipykernel)",
   "language": "python",
   "name": "python3"
  },
  "language_info": {
   "codemirror_mode": {
    "name": "ipython",
    "version": 3
   },
   "file_extension": ".py",
   "mimetype": "text/x-python",
   "name": "python",
   "nbconvert_exporter": "python",
   "pygments_lexer": "ipython3",
   "version": "3.9.4"
  }
 },
 "nbformat": 4,
 "nbformat_minor": 5
}
